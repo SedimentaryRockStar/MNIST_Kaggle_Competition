{
  "nbformat": 4,
  "nbformat_minor": 0,
  "metadata": {
    "colab": {
      "name": "CNN_Implementation.ipynb",
      "provenance": [],
      "authorship_tag": "ABX9TyO/yeuKhEzzsd18Hbs4PK+T",
      "include_colab_link": true
    },
    "kernelspec": {
      "name": "python3",
      "display_name": "Python 3"
    },
    "language_info": {
      "name": "python"
    }
  },
  "cells": [
    {
      "cell_type": "markdown",
      "metadata": {
        "id": "view-in-github",
        "colab_type": "text"
      },
      "source": [
        "<a href=\"https://colab.research.google.com/github/SedimentaryRockStar/MNIST_Kaggle_Competition/blob/main/CNN_Implementation.ipynb\" target=\"_parent\"><img src=\"https://colab.research.google.com/assets/colab-badge.svg\" alt=\"Open In Colab\"/></a>"
      ]
    },
    {
      "cell_type": "code",
      "metadata": {
        "id": "oxjrMNuGJ9ow"
      },
      "source": [
        "#Packages we are using\n",
        "import tensorflow as tf\n",
        "import matplotlib.pyplot as plt\n",
        "\n",
        "\n",
        "mnist= tf.keras.datasets.mnist\n"
      ],
      "execution_count": 3,
      "outputs": []
    },
    {
      "cell_type": "code",
      "metadata": {
        "id": "014zdP9VPBYY"
      },
      "source": [
        "(X_train, y_train), (X_test, y_test)= mnist.load_data()\n",
        "\n",
        "X_train= tf.keras.utils.normalize(X_train, axis= 1)\n",
        "X_test= tf.keras.utils.normalize(X_test, axis= 1)\n"
      ],
      "execution_count": 4,
      "outputs": []
    },
    {
      "cell_type": "code",
      "metadata": {
        "colab": {
          "base_uri": "https://localhost:8080/"
        },
        "id": "gvi7SIoPPg3N",
        "outputId": "2c9d121d-47b0-48ff-b480-8b15442d538a"
      },
      "source": [
        "model= tf.keras.models.Sequential()\n",
        "model. add(tf.keras.layers.Flatten())\n",
        "model. add(tf.keras.layers.Dense(128, activation= tf.nn.relu)) #Hidden layer 2 with 128 neurons\n",
        "model. add(tf.keras.layers.Dense(128, activation= tf.nn.relu)) #Hidden layer 2\n",
        "model. add(tf.keras.layers.Dense(10, activation= tf.nn.softmax)) #Output layer\n",
        "model. compile(optimizer= \"adam\", loss= \"sparse_categorical_crossentropy\", metrics=['accuracy'] ) # \"adam\" default optimizer\n",
        "model.fit(X_train, y_train, epochs= 4)\n"
      ],
      "execution_count": 11,
      "outputs": [
        {
          "output_type": "stream",
          "name": "stdout",
          "text": [
            "Epoch 1/4\n",
            "1875/1875 [==============================] - 6s 3ms/step - loss: 0.2681 - accuracy: 0.9208\n",
            "Epoch 2/4\n",
            "1875/1875 [==============================] - 5s 3ms/step - loss: 0.1072 - accuracy: 0.9675\n",
            "Epoch 3/4\n",
            "1875/1875 [==============================] - 5s 3ms/step - loss: 0.0754 - accuracy: 0.9758\n",
            "Epoch 4/4\n",
            "1875/1875 [==============================] - 5s 3ms/step - loss: 0.0557 - accuracy: 0.9820\n"
          ]
        },
        {
          "output_type": "execute_result",
          "data": {
            "text/plain": [
              "<keras.callbacks.History at 0x7f061dcdea50>"
            ]
          },
          "metadata": {},
          "execution_count": 11
        }
      ]
    },
    {
      "cell_type": "code",
      "metadata": {
        "colab": {
          "base_uri": "https://localhost:8080/"
        },
        "id": "OO5QPsQ1Rz5T",
        "outputId": "8a787e9a-26e2-401c-ae42-d0067615e83d"
      },
      "source": [
        "val_loss, val_acc= model.evaluate(X_test, y_test)\n",
        "print(val_loss, val_acc)"
      ],
      "execution_count": 12,
      "outputs": [
        {
          "output_type": "stream",
          "name": "stdout",
          "text": [
            "313/313 [==============================] - 1s 2ms/step - loss: 0.0883 - accuracy: 0.9736\n",
            "0.08828488737344742 0.9735999703407288\n"
          ]
        }
      ]
    }
  ]
}